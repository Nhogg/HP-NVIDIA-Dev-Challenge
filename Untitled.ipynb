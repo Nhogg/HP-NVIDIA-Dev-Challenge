{
 "cells": [
  {
   "cell_type": "code",
   "execution_count": 21,
   "id": "3e62aed8-7dcd-48cf-89a3-f65a8011de62",
   "metadata": {},
   "outputs": [],
   "source": [
    "# Import libraries\n",
    "from transformers import pipeline\n",
    "\n",
    "# Use pretrained model\n",
    "from transformers import AutoTokenizer, AutoModelForSequenceClassification\n",
    "import torch \n",
    "import torch.nn.functional as F"
   ]
  },
  {
   "cell_type": "code",
   "execution_count": 26,
   "id": "9f26fcee-f37d-4b3d-9ea2-a469e738edf9",
   "metadata": {},
   "outputs": [
    {
     "name": "stderr",
     "output_type": "stream",
     "text": [
      "No model was supplied, defaulted to distilbert/distilbert-base-uncased-finetuned-sst-2-english and revision 714eb0f (https://huggingface.co/distilbert/distilbert-base-uncased-finetuned-sst-2-english).\n",
      "Using a pipeline without specifying a model name and revision in production is not recommended.\n",
      "Device set to use cuda:0\n"
     ]
    }
   ],
   "source": [
    "# Load pipeline (sentiment analysis)\n",
    "classifier = pipeline(\"sentiment-analysis\", framework=\"pt\")\n",
    "\n",
    "# Load tokenizer and model\n",
    "tokenizer = AutoTokenizer.from_pretrained(\"bhadresh-savani/bert-base-go-emotion\")\n",
    "model = AutoModelForSequenceClassification.from_pretrained(\"bhadresh-savani/bert-base-go-emotion\", use_safetensors=True)\n"
   ]
  },
  {
   "cell_type": "code",
   "execution_count": 35,
   "id": "e57f3c45-68c2-4d4b-810e-15c3fa2ab21b",
   "metadata": {},
   "outputs": [
    {
     "name": "stdout",
     "output_type": "stream",
     "text": [
      "approval: 0.12\n",
      "disappointment: 0.14\n",
      "sadness: 0.11\n",
      "neutral: 0.24\n"
     ]
    }
   ],
   "source": [
    "# Test\n",
    "text = \"It is hard to stay positive when everyone is so mean to me\"\n",
    "inputs = tokenizer(text, return_tensors=\"pt\")\n",
    "\n",
    "with torch.no_grad():\n",
    "    outputs = model(**inputs)\n",
    "    probs = F.softmax(outputs.logits, dim = 1)\n",
    "\n",
    "labels = model.config.id2label\n",
    "for idx, prob in enumerate(probs[0]):\n",
    "    if prob > 0.1:\n",
    "        print(f\"{labels[idx]}: {prob.item():.2f}\")"
   ]
  }
 ],
 "metadata": {
  "kernelspec": {
   "display_name": "Python [conda env:base] *",
   "language": "python",
   "name": "conda-base-py"
  },
  "language_info": {
   "codemirror_mode": {
    "name": "ipython",
    "version": 3
   },
   "file_extension": ".py",
   "mimetype": "text/x-python",
   "name": "python",
   "nbconvert_exporter": "python",
   "pygments_lexer": "ipython3",
   "version": "3.12.7"
  }
 },
 "nbformat": 4,
 "nbformat_minor": 5
}
